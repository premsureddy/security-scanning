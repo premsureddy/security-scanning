{
 "cells": [
  {
   "cell_type": "code",
   "execution_count": null,
   "metadata": {},
   "outputs": [],
   "source": [
    "import requests\n",
    "import pandas as pd"
   ]
  },
  {
   "cell_type": "code",
   "execution_count": null,
   "metadata": {},
   "outputs": [],
   "source": [
    "fd = pd.read_csv(\"CVE_list.csv\",names=['cve_id'], )"
   ]
  },
  {
   "cell_type": "code",
   "execution_count": null,
   "metadata": {},
   "outputs": [],
   "source": [
    "cve_list = list(fd.cve_id)\n",
    "cve_list[:10]"
   ]
  },
  {
   "cell_type": "markdown",
   "metadata": {},
   "source": [
    "***Algorithm:***<br>\n",
    "For each CVE_ID in the list:<br>\n",
    "&emsp; Do a get request from https://services.nvd.nist.gov/rest/json/cve/1.0/<CVE-ID> API\n",
    "<br>&emsp; Read the JSON output to a Python Dictonary data type variable\n",
    "<br>&emsp; If the response from request is not NULL\n",
    "<br>&emsp; &emsp; Get the individual values. (For Suse Linux baseMetricV2_baseScore and baseMetricV2_severity are used instead of cvssV3 metrics.)\n",
    "<br> &emsp; &emsp; append to a list\n",
    "<br> &emsp; Set all variables to NULL before looping to next CVE_ID\n",
    "\n",
    "***Coding Tip :*** Instead of creating a empty dataframe and appending rows, better to build list of list and create a dataframe at the end. this is more optimal on memory utilization. <dr> https://pandas.pydata.org/pandas-docs/stable/reference/api/pandas.DataFrame.append.html <dr>\n",
    "* Iteratively appending rows to a DataFrame can be more computationally intensive than a single concatenate. A better solution is to append those rows to a list and then concatenate the list with the original DataFrame all at once."
   ]
  },
  {
   "cell_type": "code",
   "execution_count": null,
   "metadata": {},
   "outputs": [],
   "source": [
    "# Create a list of columns that need to be heading in CSV file\n",
    "cols=['cve_id','cvssV3_baseScore','cvssV3_baseSeverity','cvssV3_vectorString','description','publishedDate','lastModifiedDate','baseMetricV2_baseScore','baseMetricV2_severity']\n",
    "data = []\n",
    "for cve in cve_list:\n",
    "    req=\"https://services.nvd.nist.gov/rest/json/cve/1.0/\"+cve\n",
    "    response = requests.get(req)\n",
    "    if response.json().get('result') is not None:\n",
    "        publishedDate = response.json().get('result').get('CVE_Items')[0].get('publishedDate', ' ')\n",
    "        lastModifiedDate = response.json().get('result').get('CVE_Items')[0].get('lastModifiedDate', ' ')\n",
    "        description = response.json().get('result').get('CVE_Items')[0].get('cve').get('description').get('description_data')[0].get('value',' ')\n",
    "        baseMetricV3 = response.json().get('result').get('CVE_Items')[0].get('impact').get('baseMetricV3')\n",
    "        if baseMetricV3 is not None:\n",
    "            cvssV3_baseScore = response.json().get('result').get('CVE_Items')[0].get('impact').get('baseMetricV3').get('cvssV3').get('baseScore',' ')\n",
    "            cvssV3_baseSeverity = response.json().get('result').get('CVE_Items')[0].get('impact').get('baseMetricV3').get('cvssV3').get('baseSeverity',' ')\n",
    "            cvssV3_vectorString = response.json().get('result').get('CVE_Items')[0].get('impact').get('baseMetricV3').get('cvssV3').get('vectorString',' ')\n",
    "        baseMetricV2 = response.json().get('result').get('CVE_Items')[0].get('impact').get('baseMetricV2')\n",
    "        if baseMetricV2 is not None:\n",
    "            baseMetricV2_baseScore = response.json().get('result').get('CVE_Items')[0].get('impact').get('baseMetricV2').get('cvssV2').get('baseScore',' ')\n",
    "            baseMetricV2_severity = response.json().get('result').get('CVE_Items')[0].get('impact').get('baseMetricV2').get('severity',' ')\n",
    "        #print(cve)\n",
    "        data.append([cve,cvssV3_baseScore,cvssV3_baseSeverity,cvssV3_vectorString,description,publishedDate,lastModifiedDate,baseMetricV2_baseScore,baseMetricV2_severity])\n",
    "        cvssV3_baseScore=cvssV3_baseSeverity=cvssV3_vectorString=description=publishedDate = lastModifiedDate = baseMetricV2_baseScore = baseMetricV2_severity = None"
   ]
  },
  {
   "cell_type": "code",
   "execution_count": null,
   "metadata": {},
   "outputs": [],
   "source": [
    "output.to_csv('vulnerability_report.csv', sep=',', encoding='utf-8')"
   ]
  }
 ],
 "metadata": {
  "kernelspec": {
   "display_name": "Python 3",
   "language": "python",
   "name": "python3"
  },
  "language_info": {
   "codemirror_mode": {
    "name": "ipython",
    "version": 3
   },
   "file_extension": ".py",
   "mimetype": "text/x-python",
   "name": "python",
   "nbconvert_exporter": "python",
   "pygments_lexer": "ipython3",
   "version": "3.7.0"
  }
 },
 "nbformat": 4,
 "nbformat_minor": 2
}
